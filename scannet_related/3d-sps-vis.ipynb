{
 "cells": [
  {
   "cell_type": "code",
   "execution_count": 1,
   "metadata": {},
   "outputs": [
    {
     "name": "stdout",
     "output_type": "stream",
     "text": [
      "Jupyter environment detected. Enabling Open3D WebVisualizer.\n",
      "[Open3D INFO] WebRTC GUI backend enabled.\n",
      "[Open3D INFO] WebRTCWindowSystem: HTTP handshake server disabled.\n"
     ]
    }
   ],
   "source": [
    "import open3d as o3d\n",
    "import numpy as np\n",
    "import os\n",
    "import json\n",
    "import random\n",
    "\n",
    "def show(name_dict, folder, show_opts):    \n",
    "    pcd_pts = []\n",
    "    pcd_color = []\n",
    "    \n",
    "    obj_str = f\"_{name_dict['object_id']}_{name_dict['object_name']}_{name_dict['ann_id']}_{name_dict['score']}_{name_dict['iou']}\"\n",
    "    \n",
    "    for opt, v in show_opts.items():\n",
    "        if v:\n",
    "            if opt == 'gt':\n",
    "                path = os.path.join(folder, f\"gt_{name_dict['object_id']}_{name_dict['object_name']}.ply\")\n",
    "            elif opt == 'scene':\n",
    "                path = os.path.join(folder, \"pc.ply\")\n",
    "            else:\n",
    "                path = os.path.join(folder, opt + obj_str + \".ply\")\n",
    "                \n",
    "            pcd = o3d.io.read_point_cloud(path)\n",
    "            pts = np.asarray(pcd.points)\n",
    "            color = np.asarray(pcd.colors)\n",
    "            pcd_pts.append(pts)\n",
    "            pcd_color.append(color)\n",
    "            \n",
    "            if \"tpm\" in path and \"box\" not in path:\n",
    "                c = np.array([251, 158, 5]) / 256\n",
    "                color[:, 0] = c[0]\n",
    "                color[:, 1] = c[1]\n",
    "                color[:, 2] = c[2]\n",
    "                \n",
    "            if \"sample\" in path:\n",
    "                c = np.array([174, 66, 200]) / 256\n",
    "                color[:, 0] = c[0]\n",
    "                color[:, 1] = c[1]\n",
    "                color[:, 2] = c[2]\n",
    "\n",
    "    pcd_pts = np.concatenate(pcd_pts, axis=0)\n",
    "    pcd_color = np.concatenate(pcd_color, axis=0)\n",
    "    pcd = o3d.geometry.PointCloud()\n",
    "    pcd.points = o3d.utility.Vector3dVector(pcd_pts)\n",
    "    pcd.colors = o3d.utility.Vector3dVector(pcd_color)\n",
    "\n",
    "    o3d.visualization.draw_geometries([pcd])\n",
    "    \n",
    "def get_proposal_list(folder, scene, label_path):\n",
    "    labels = json.load(open(label_path, 'r'))\n",
    "    proposal_list = []\n",
    "    for file in os.listdir(os.path.join(folder, scene)):\n",
    "        if \"pred\" in file:\n",
    "            split_str = file.replace(\".ply\", \"\").split(\"_\")\n",
    "            data_dict = {}\n",
    "            data_dict['object_id'] = split_str[1]\n",
    "            data_dict['object_name'] = '_'.join(split_str[2:-3])\n",
    "            data_dict['ann_id'] = split_str[-3]\n",
    "            data_dict['score'] = split_str[-2]\n",
    "            data_dict['iou'] = split_str[-1]\n",
    "            for label in labels:\n",
    "                if label['scene_id'] == scene and label['object_id'] == data_dict['object_id'] and label['ann_id'] == data_dict['ann_id']:\n",
    "                    data_dict['description'] = label['description']\n",
    "                    break\n",
    "            proposal_list.append(data_dict)\n",
    "            \n",
    "    return proposal_list"
   ]
  },
  {
   "cell_type": "code",
   "execution_count": 3,
   "metadata": {},
   "outputs": [],
   "source": [
    "folder = \"author\"\n",
    "scene = \"scene0011_00\"\n",
    "label_path = \"ScanRefer_filtered_val.json\"\n",
    "\n",
    "proposals = get_proposal_list(folder, scene, label_path)\n"
   ]
  },
  {
   "cell_type": "code",
   "execution_count": 4,
   "metadata": {},
   "outputs": [
    {
     "name": "stdout",
     "output_type": "stream",
     "text": [
      "total scene num:  1\n",
      "zero 53 out of total 76 -- 0.6973684210526315\n"
     ]
    }
   ],
   "source": [
    "scene_list = os.listdir(\"author\")[:5]\n",
    "total = 0\n",
    "zero = 0\n",
    "for f in scene_list:\n",
    "    proposals = get_proposal_list(folder, f, label_path)\n",
    "    for p in proposals:\n",
    "        if float(p['iou']) < 0.001:\n",
    "            zero += 1\n",
    "        total += 1\n",
    "print(\"total scene num: \", len(scene_list))\n",
    "print(f\"zero {zero} out of total {total} -- {zero/total}\")"
   ]
  },
  {
   "cell_type": "code",
   "execution_count": 5,
   "metadata": {},
   "outputs": [
    {
     "ename": "FileNotFoundError",
     "evalue": "[WinError 3] 系统找不到指定的路径。: 'author3'",
     "output_type": "error",
     "traceback": [
      "\u001b[1;31m---------------------------------------------------------------------------\u001b[0m",
      "\u001b[1;31mFileNotFoundError\u001b[0m                         Traceback (most recent call last)",
      "\u001b[1;32md:\\Projects\\3dsps-vis\\vis.ipynb Cell 4'\u001b[0m in \u001b[0;36m<cell line: 1>\u001b[1;34m()\u001b[0m\n\u001b[1;32m----> <a href='vscode-notebook-cell:/d%3A/Projects/3dsps-vis/vis.ipynb#ch0000003?line=0'>1</a>\u001b[0m scene_list \u001b[39m=\u001b[39m \u001b[39msorted\u001b[39m(os\u001b[39m.\u001b[39;49mlistdir(\u001b[39m\"\u001b[39;49m\u001b[39mauthor3\u001b[39;49m\u001b[39m\"\u001b[39;49m))[:\u001b[39m5\u001b[39m]\n\u001b[0;32m      <a href='vscode-notebook-cell:/d%3A/Projects/3dsps-vis/vis.ipynb#ch0000003?line=1'>2</a>\u001b[0m \u001b[39mprint\u001b[39m(scene_list)\n\u001b[0;32m      <a href='vscode-notebook-cell:/d%3A/Projects/3dsps-vis/vis.ipynb#ch0000003?line=2'>3</a>\u001b[0m folder \u001b[39m=\u001b[39m \u001b[39m\"\u001b[39m\u001b[39mauthor3\u001b[39m\u001b[39m\"\u001b[39m\n",
      "\u001b[1;31mFileNotFoundError\u001b[0m: [WinError 3] 系统找不到指定的路径。: 'author3'"
     ]
    }
   ],
   "source": [
    "scene_list = sorted(os.listdir(\"author3\"))[:5]\n",
    "print(scene_list)\n",
    "folder = \"author3\"\n",
    "\n",
    "\n",
    "def get_bbox(name_dict, folder):\n",
    "    obj_str = f\"_{name_dict['object_id']}_{name_dict['object_name']}_{name_dict['ann_id']}_{name_dict['score']}_{name_dict['iou']}\"\n",
    "    path = os.path.join(folder, 'pred' + obj_str + \".ply\")\n",
    "                \n",
    "    pcd = o3d.io.read_point_cloud(path)\n",
    "    pts = np.asarray(pcd.points)\n",
    "    \n",
    "    bbox_max = np.max(pts, axis=0)\n",
    "    bbox_min = np.min(pts, axis=0)\n",
    "    \n",
    "    return bbox_max, bbox_min\n",
    "\n",
    "def get_tpm_points(name_dict, folder):\n",
    "    obj_str = f\"_{name_dict['object_id']}_{name_dict['object_name']}_{name_dict['ann_id']}_{name_dict['score']}_{name_dict['iou']}\"\n",
    "    path = os.path.join(folder, 'tpm1' + obj_str + \".ply\")\n",
    "                \n",
    "    pcd = o3d.io.read_point_cloud(path)\n",
    "    pts = np.asarray(pcd.points)\n",
    "    \n",
    "    return pts\n",
    "\n",
    "out = 0\n",
    "total = 0\n",
    "for s in scene_list:\n",
    "    proposals = get_proposal_list(folder, s, label_path)\n",
    "    for p in proposals:\n",
    "        bbox_max, bbox_min = get_bbox(p, os.path.join(folder, s))\n",
    "        pts = get_tpm_points(p, os.path.join(folder, s))\n",
    "        for pt in pts:\n",
    "            if pt[0] < bbox_min[0] or pt[0] > bbox_max[0] \\\n",
    "               or pt[1] < bbox_min[1] or pt[1] > bbox_max[1] \\\n",
    "               or pt[2] < bbox_min[2] or pt[2] > bbox_max[2]:\n",
    "                   out += 1\n",
    "            total += 1\n",
    "        \n",
    "out / total\n"
   ]
  },
  {
   "cell_type": "code",
   "execution_count": 4,
   "metadata": {},
   "outputs": [
    {
     "name": "stdout",
     "output_type": "stream",
     "text": [
      "scene:  scene0616_00\n",
      "a table sits in the corner by a brightly colored wall. it's got two chairs facing it.\n"
     ]
    },
    {
     "data": {
      "text/plain": [
       "{'object_id': '5',\n",
       " 'object_name': 'table',\n",
       " 'ann_id': '2',\n",
       " 'score': '0.08717',\n",
       " 'iou': '0.71041',\n",
       " 'description': \"a table sits in the corner by a brightly colored wall. it's got two chairs facing it.\"}"
      ]
     },
     "execution_count": 4,
     "metadata": {},
     "output_type": "execute_result"
    }
   ],
   "source": [
    "folder = \"author\"\n",
    "scene = \"scene0616_00\"\n",
    "label_path = \"ScanRefer_filtered_val.json\"\n",
    "proposals = get_proposal_list(folder, scene, label_path)\n",
    "\n",
    "\n",
    "find_id, find_ann = 5, 2\n",
    "# find_id, find_ann = None, None\n",
    "\n",
    "proposal = None\n",
    "if find_id is not None:\n",
    "    for p in proposals:\n",
    "        if p['object_id'] == str(find_id) and p['ann_id'] == str(find_ann):\n",
    "            proposal = p\n",
    "else:\n",
    "    proposal = proposals[random.randint(0, len(proposals)-1)]\n",
    "\n",
    "\n",
    "print(\"scene: \", scene)\n",
    "\n",
    "show_opts = {}\n",
    "show_opts['gt'] = True\n",
    "show_opts['pred'] = True\n",
    "\n",
    "show_opts['filter'] = False\n",
    "show_opts['tpm0'] = False\n",
    "show_opts['tpm1'] = False\n",
    "show_opts['tpm2'] = False\n",
    "show_opts['tpm3'] = True\n",
    "show_opts['sample'] = False\n",
    "show_opts['seed'] = False\n",
    "\n",
    "show_opts['tpmbox0'] = False\n",
    "show_opts['tpmbox1'] = False\n",
    "show_opts['tpmbox2'] = False\n",
    "show_opts['tpmbox3'] = False\n",
    "\n",
    "show_opts['scene'] = True\n",
    "\n",
    "\n",
    "print(proposal['description'])\n",
    "show(proposal, os.path.join(folder, scene), show_opts)\n",
    "proposal"
   ]
  }
 ],
 "metadata": {
  "kernelspec": {
   "display_name": "Python 3.8.0 ('3dsps-vis')",
   "language": "python",
   "name": "python3"
  },
  "language_info": {
   "codemirror_mode": {
    "name": "ipython",
    "version": 3
   },
   "file_extension": ".py",
   "mimetype": "text/x-python",
   "name": "python",
   "nbconvert_exporter": "python",
   "pygments_lexer": "ipython3",
   "version": "3.8.0 (default, Nov  6 2019, 16:00:02) [MSC v.1916 64 bit (AMD64)]"
  },
  "orig_nbformat": 4,
  "vscode": {
   "interpreter": {
    "hash": "2dfb1628555c795db685c1c9a5436e8a6d2e346014ba3df3d29cb4bc78f9a9f5"
   }
  }
 },
 "nbformat": 4,
 "nbformat_minor": 2
}
