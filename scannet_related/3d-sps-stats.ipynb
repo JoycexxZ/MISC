{
 "cells": [
  {
   "cell_type": "code",
   "execution_count": 8,
   "metadata": {},
   "outputs": [],
   "source": [
    "import numpy as np\n",
    "import matplotlib.pyplot as plt\n",
    "import json\n",
    "import pandas as pd\n",
    "import random"
   ]
  },
  {
   "cell_type": "code",
   "execution_count": 9,
   "metadata": {},
   "outputs": [
    {
     "name": "stdout",
     "output_type": "stream",
     "text": [
      "load complete\n"
     ]
    }
   ],
   "source": [
    "data = np.load('stats_8.npz', allow_pickle=True)\n",
    "print('load complete')\n",
    "data = data['stats'].item()"
   ]
  },
  {
   "cell_type": "code",
   "execution_count": 10,
   "metadata": {},
   "outputs": [
    {
     "name": "stdout",
     "output_type": "stream",
     "text": [
      "iou zero percentage:  0.45225073622212875\n"
     ]
    },
    {
     "data": {
      "image/png": "[encoded data removed]",
      "text/plain": [
       "<Figure size 432x288 with 1 Axes>"
      ]
     },
     "metadata": {
      "needs_background": "light"
     },
     "output_type": "display_data"
    }
   ],
   "source": [
    "iou_nonzero = []\n",
    "iou_total = []\n",
    "for scene in data['iou_list'].keys():\n",
    "    l = data['iou_list'][scene]\n",
    "    l = [x for x in l if x > 0.0]\n",
    "    iou_total.extend(data['iou_list'][scene])\n",
    "    iou_nonzero.extend(l)\n",
    "    \n",
    "print(\"iou zero percentage: \", (len(iou_total)-len(iou_nonzero))/len(iou_total))\n",
    "plt.hist(iou_nonzero, bins=200)\n",
    "plt.title(\"Non-zero iou distribution\")\n",
    "plt.show()"
   ]
  },
  {
   "cell_type": "code",
   "execution_count": 11,
   "metadata": {},
   "outputs": [
    {
     "name": "stdout",
     "output_type": "stream",
     "text": [
      "{1: 'wall', 2: 'floor', 3: 'cabinet', 4: 'bed', 5: 'chair', 6: 'sofa', 7: 'table', 8: 'door', 9: 'window', 10: 'bookshelf', 11: 'picture', 12: 'counter', 13: 'blinds', 14: 'desk', 15: 'shelves', 16: 'curtain', 17: 'dresser', 18: 'pillow', 19: 'mirror', 20: 'floor mat', 21: 'clothes', 22: 'ceiling', 23: 'books', 24: 'refrigerator', 25: 'television', 26: 'paper', 27: 'towel', 28: 'shower curtain', 29: 'box', 30: 'whiteboard', 31: 'person', 32: 'night stand', 33: 'toilet', 34: 'sink', 35: 'lamp', 36: 'bathtub', 37: 'bag', 38: 'otherstructure', 39: 'otherfurniture', 40: 'otherprop', -1: 'background', -2: 'unknown'}\n"
     ]
    },
    {
     "data": {
      "text/plain": [
       "dict_keys(['scene_id', 'object_id', 'ann_id', 'iou', 'unique_multiple', 'pred_bbox_min', 'pred_bbox_max', 'sample_ins_labels', 'sample_sem_labels', 'seed_ins_labels', 'seed_sem_labels', 'tpm0_ins_labels', 'tpm0_sem_labels', 'tpm0_points', 'tpm1_ins_labels', 'tpm1_sem_labels', 'tpm1_points', 'tpm2_ins_labels', 'tpm2_sem_labels', 'tpm2_points', 'tpm3_ins_labels', 'tpm3_sem_labels', 'tpm3_points'])"
      ]
     },
     "execution_count": 11,
     "metadata": {},
     "output_type": "execute_result"
    }
   ],
   "source": [
    "def get_scenes(path):\n",
    "    scenes = {}\n",
    "    labels = json.load(open(path, 'r'))\n",
    "    for label in labels:\n",
    "        if label['scene_id'] not in scenes.keys():\n",
    "            scenes[label['scene_id']] = []\n",
    "        if label['object_id'] not in scenes[label['scene_id']]:\n",
    "            scenes[label['scene_id']].append(label['object_id'])\n",
    "            \n",
    "    return scenes\n",
    "\n",
    "def get_description(labels, scene, obj, ann):\n",
    "    for label in labels:\n",
    "        if label['scene_id'] == scene and label['object_id'] == obj and label['ann_id'] == ann:\n",
    "            return label['description']\n",
    "    return None\n",
    "\n",
    "def get_label_name(path):\n",
    "    df = pd.read_csv(path, sep='\\t')\n",
    "    label_name = {}\n",
    "    for i in range(1, 41):\n",
    "        for _, row in df.iterrows():\n",
    "            if row['nyu40id'] == i:\n",
    "                label_name[i] = row['nyu40class']\n",
    "    return label_name\n",
    "                \n",
    "def cnt_to_rate(cnt_list):\n",
    "    cnt_list = np.array(cnt_list)\n",
    "    cnt_list = cnt_list / cnt_list.sum()\n",
    "    return cnt_list\n",
    "\n",
    "def get_pred_label(bbox_min, bbox_max, seed_points, seed_sem_labels, seed_ins_labels):\n",
    "    ind = []\n",
    "    for i, point in enumerate(seed_points):\n",
    "        point = np.array(point)\n",
    "        bbox_min = np.array(bbox_min)\n",
    "        bbox_max = np.array(bbox_max)\n",
    "        if (point > bbox_min).sum() == 3 and (point < bbox_max).sum() == 3:\n",
    "            ind.append(i)\n",
    "    bbox_sem_labels = seed_sem_labels[ind]\n",
    "    bbox_sem_fore_labels = bbox_sem_labels[bbox_sem_labels >= 0]\n",
    "    bbox_ins_labels = seed_ins_labels[ind]\n",
    "    bbox_ins_fore_labels = bbox_ins_labels[bbox_ins_labels >= 0]\n",
    "    sem_label_cnt = np.bincount(bbox_sem_fore_labels)\n",
    "    ins_label_cnt = np.bincount(bbox_ins_fore_labels)\n",
    "    if len(sem_label_cnt) == 0:\n",
    "        return -2, -1\n",
    "    return np.argmax(sem_label_cnt), np.argmax(ins_label_cnt)\n",
    "    \n",
    "\n",
    "def get_table_row(prefix, instance, label_name_dict, description_file):\n",
    "    d = {}\n",
    "    sem_labels = np.array(instance[f'{prefix}_sem_labels'])\n",
    "    ins_labels = np.array(instance[f'{prefix}_ins_labels'])\n",
    "    \n",
    "    fg_sem_labels = []\n",
    "    fg_ins_labels = []\n",
    "    for i in range(len(sem_labels)):\n",
    "        if sem_labels[i] > 0:\n",
    "            fg_sem_labels.append(sem_labels[i])\n",
    "            fg_ins_labels.append(ins_labels[i])\n",
    "    \n",
    "    scene = instance['scene_id']\n",
    "    for ind, ins_label in enumerate(fg_ins_labels):\n",
    "        col_name = f\"{label_name_dict[fg_sem_labels[ind]]}_{ins_label}\"\n",
    "        if col_name not in d.keys():\n",
    "            d[col_name] = 0\n",
    "        d[col_name] += 1 / len(fg_sem_labels) * 100\n",
    "    \n",
    "    pred_label, pred_obj_id = get_pred_label(instance['pred_bbox_min'], instance['pred_bbox_max'], instance['tpm0_points'], instance['tpm0_sem_labels'], instance['tpm0_ins_labels'])\n",
    "    d['bg_percent'] = (len(sem_labels) - len(fg_sem_labels)) / len(sem_labels)\n",
    "    d['pred_label'] = label_name_dict[pred_label]\n",
    "    d['pred_obj_id'] = pred_obj_id\n",
    "    d['object_id'] = instance['object_id']\n",
    "    d['ann_id'] = instance['ann_id']\n",
    "    d['iou'] = instance['iou']\n",
    "    d['description'] = get_description(description_file, scene, instance['object_id'], instance['ann_id'])\n",
    "    # print(d)\n",
    "    return d\n",
    "\n",
    "\n",
    "label_path = \"ScanRefer_filtered_val.json\"\n",
    "instance_data = data['instance_data']\n",
    "scenes = get_scenes(label_path)\n",
    "description_file = json.load(open(label_path, 'r'))\n",
    "label_name_dict = get_label_name('scannetv2-labels-combined.tsv')\n",
    "label_name_dict[-1] = \"background\"\n",
    "label_name_dict[-2] = \"unknown\"\n",
    "print(label_name_dict)\n",
    "\n",
    "instance_data[0].keys()"
   ]
  },
  {
   "cell_type": "code",
   "execution_count": 7,
   "metadata": {},
   "outputs": [],
   "source": [
    "# Single Scene\n",
    "scene_name = list(scenes.keys())\n",
    "# scene = scene_name[1]\n",
    "scene = scene_name[random.randint(0, len(scene_name)-1)]\n",
    "\n",
    "table_dict = []\n",
    "index = []\n",
    "\n",
    "prefixs = [\"seed\", \"sample\", \"tpm0\", \"tpm1\", \"tpm2\", \"tpm3\"]\n",
    "# Single instance\n",
    "for instance in instance_data:\n",
    "    if instance['scene_id'] == scene:\n",
    "        for prefix in prefixs:\n",
    "            r = get_table_row(prefix, instance, label_name_dict, description_file)\n",
    "            table_dict.append(r)\n",
    "            index.append(prefix)\n",
    "\n",
    "table = pd.DataFrame(table_dict, index=index)\n",
    "table = table.sort_values(by=['object_id', 'ann_id'])\n",
    "table = table[sorted(table.columns[:-7]) + list(table.columns[-7:])]\n",
    "# table = table.reindex(columns=)\n",
    "\n",
    "table.to_csv(f'results/{scene}_single_instance.csv')\n"
   ]
  },
  {
   "cell_type": "code",
   "execution_count": null,
   "metadata": {},
   "outputs": [],
   "source": [
    "object_id = []\n",
    "labels = []\n",
    "for i in instance_data:\n",
    "    for j in i['sample_labels']:\n",
    "        if j not in labels:\n",
    "            labels.append(j)\n",
    "    if int(i['object_id']) not in object_id:\n",
    "        object_id.append(int(i['object_id']))\n",
    "print(sorted(object_id))\n",
    "print(sorted(labels))"
   ]
  },
  {
   "cell_type": "code",
   "execution_count": 12,
   "metadata": {},
   "outputs": [
    {
     "data": {
      "text/plain": [
       "{'seed': 0.5797406213846235,\n",
       " 'sample': 0.4041265825489062,\n",
       " 'tpm0': 0.43212335993374,\n",
       " 'tpm1': 0.43354691444047116,\n",
       " 'tpm2': 0.4464431268405553,\n",
       " 'tpm3': 0.5885241375683635}"
      ]
     },
     "execution_count": 12,
     "metadata": {},
     "output_type": "execute_result"
    }
   ],
   "source": [
    "# BG point percentage\n",
    "prefixs = [\"seed\", \"sample\", \"tpm0\", \"tpm1\", \"tpm2\", \"tpm3\"]\n",
    "\n",
    "d = {}\n",
    "for prefix in prefixs:\n",
    "    d[prefix] = []\n",
    "\n",
    "for i in instance_data:\n",
    "    for prefix in prefixs:\n",
    "        layer_labels = i[f\"{prefix}_sem_labels\"]\n",
    "        bg_labels = [p for p in layer_labels if p == -1]\n",
    "        d[prefix].append(len(bg_labels) / len(layer_labels))\n",
    "\n",
    "for prefix in prefixs:\n",
    "    d[prefix] = np.array(d[prefix]).mean()\n",
    "d"
   ]
  },
  {
   "cell_type": "code",
   "execution_count": 13,
   "metadata": {},
   "outputs": [
    {
     "name": "stdout",
     "output_type": "stream",
     "text": [
      "9508\n",
      "diff_obj_dist threshold:  1000\n"
     ]
    },
    {
     "name": "stderr",
     "output_type": "stream",
     "text": [
      "9508it [02:40, 59.15it/s] "
     ]
    },
    {
     "name": "stdout",
     "output_type": "stream",
     "text": [
      "same_obj_sample:  1.7374124024559268e-09\n",
      "same_obj_seed:  2.3401417527030193e-10\n",
      "same_obj_dist:  1.0663957525951808\n",
      "diff_obj_sample:  3.712280639359974e-09\n",
      "diff_obj_seed:  2.083623273463144e-10\n",
      "diff_obj_dist:  2.6608261747237103\n"
     ]
    },
    {
     "name": "stderr",
     "output_type": "stream",
     "text": [
      "\n"
     ]
    }
   ],
   "source": [
    "# Sample KL divergence\n",
    "import scipy.stats as stats\n",
    "from tqdm import tqdm\n",
    "scene_list = list(scenes.keys())\n",
    "\n",
    "def kl_dist(ins_label_A, ins_label_B):\n",
    "    ins_label_A = [p for p in ins_label_A if p != -1]\n",
    "    ins_label_B = [p for p in ins_label_B if p != -1]\n",
    "    ins_label_dist_A = np.bincount(ins_label_A)\n",
    "    ins_label_dist_B = np.bincount(ins_label_B)\n",
    "    if ins_label_dist_A.shape[0] < ins_label_dist_B.shape[0]:\n",
    "        ins_label_dist_A = np.pad(ins_label_dist_A, (0, len(ins_label_dist_B) - len(ins_label_dist_A)))\n",
    "    if ins_label_dist_B.shape[0] < ins_label_dist_A.shape[0]:\n",
    "        ins_label_dist_B = np.pad(ins_label_dist_B, (0, len(ins_label_dist_A) - len(ins_label_dist_B)))\n",
    "    ins_label_dist_A = ins_label_dist_A.astype('float64') + 1e5\n",
    "    ins_label_dist_B = ins_label_dist_B.astype('float64') + 1e5\n",
    "    kl_dist = stats.entropy(ins_label_dist_A, ins_label_dist_B)\n",
    "    return kl_dist\n",
    "\n",
    "d = {}\n",
    "d['same_obj_sample'] = []\n",
    "d['same_obj_seed'] = []\n",
    "d['same_obj_dist'] = []\n",
    "d['diff_obj_sample'] = []\n",
    "d['diff_obj_seed'] = []\n",
    "d['diff_obj_dist'] = []\n",
    "\n",
    "print(len(instance_data))\n",
    "thresh = 1000\n",
    "print(\"diff_obj_dist threshold: \", thresh)\n",
    "\n",
    "for ind, instance_A in tqdm(enumerate(instance_data)):\n",
    "    for ind2 in range(ind+1, len(instance_data)):\n",
    "        instance_B = instance_data[ind2]\n",
    "        # Same object\n",
    "        if instance_A['scene_id'] == instance_B['scene_id'] \\\n",
    "        and instance_A['object_id'] == instance_B['object_id']:\n",
    "            ins_label_A = instance_A['sample_ins_labels']\n",
    "            ins_label_B = instance_B['sample_ins_labels']\n",
    "            d['same_obj_sample'].append(kl_dist(ins_label_A, ins_label_B))\n",
    "            \n",
    "            ins_label_A = instance_A['seed_ins_labels']\n",
    "            ins_label_B = instance_B['seed_ins_labels']\n",
    "            d['same_obj_seed'].append(kl_dist(ins_label_A, ins_label_B))\n",
    "            \n",
    "            pred_bbox_center_A = (instance_A['pred_bbox_min'] + instance_A['pred_bbox_max']) / 2\n",
    "            pred_bbox_center_B = (instance_B['pred_bbox_min'] + instance_B['pred_bbox_max']) / 2\n",
    "            d['same_obj_dist'].append(np.linalg.norm(pred_bbox_center_A - pred_bbox_center_B))\n",
    "            \n",
    "            \n",
    "        # Different object\n",
    "        if instance_A['scene_id'] == instance_B['scene_id'] \\\n",
    "        and instance_A['object_id'] != instance_B['object_id']:\n",
    "            pred_bbox_center_A = (instance_A['pred_bbox_min'] + instance_A['pred_bbox_max']) / 2\n",
    "            pred_bbox_center_B = (instance_B['pred_bbox_min'] + instance_B['pred_bbox_max']) / 2\n",
    "            dist = np.linalg.norm(pred_bbox_center_A - pred_bbox_center_B)\n",
    "            if dist > thresh:\n",
    "                continue\n",
    "            d['diff_obj_dist'].append(dist)\n",
    "            \n",
    "            ins_label_A = instance_A['sample_ins_labels']\n",
    "            ins_label_B = instance_B['sample_ins_labels']\n",
    "            d['diff_obj_sample'].append(kl_dist(ins_label_A, ins_label_B))\n",
    "            \n",
    "            ins_label_A = instance_A['seed_ins_labels']\n",
    "            ins_label_B = instance_B['seed_ins_labels']\n",
    "            d['diff_obj_seed'].append(kl_dist(ins_label_A, ins_label_B))\n",
    "            \n",
    "        \n",
    "for key, value in d.items():\n",
    "    print(f\"{key}: \", np.array(value).mean())\n"
   ]
  },
  {
   "cell_type": "code",
   "execution_count": 14,
   "metadata": {},
   "outputs": [
    {
     "name": "stderr",
     "output_type": "stream",
     "text": [
      "100%|██████████| 9508/9508 [00:11<00:00, 857.69it/s]"
     ]
    },
    {
     "name": "stdout",
     "output_type": "stream",
     "text": [
      "unique_match:  0.335010162601626\n",
      "multiple_match:  0.14677671930053504\n",
      "multiple_cls_match:  0.243291628604985\n"
     ]
    },
    {
     "name": "stderr",
     "output_type": "stream",
     "text": [
      "\n"
     ]
    }
   ],
   "source": [
    "from tqdm import tqdm\n",
    "\n",
    "# tpm3 points\n",
    "d = {}\n",
    "d['unique_match'] = []\n",
    "d['multiple_match'] = []\n",
    "d['multiple_cls_match'] = []\n",
    "for instance in tqdm(instance_data):\n",
    "    multiple = instance['unique_multiple']\n",
    "    pred_label, pred_obj_id = get_pred_label(instance['pred_bbox_min'], instance['pred_bbox_max'], instance['tpm0_points'], instance['tpm0_sem_labels'], instance['tpm0_ins_labels'])\n",
    "    tpm_obj_ids = instance['tpm3_ins_labels']\n",
    "    tpm_sem_labels = instance['tpm3_sem_labels']\n",
    "    if not multiple:\n",
    "        correct = [i for i in tpm_obj_ids if i == pred_obj_id]\n",
    "        d['unique_match'].append(len(correct) / len(tpm_obj_ids))\n",
    "    else:\n",
    "        correct = [i for i in tpm_obj_ids if i == pred_obj_id]\n",
    "        d['multiple_match'].append(len(correct) / len(tpm_obj_ids))\n",
    "        cls_match = [i for i in tpm_sem_labels if i == pred_label]\n",
    "        d['multiple_cls_match'].append(len(cls_match) / len(tpm_sem_labels))\n",
    "\n",
    "for key, value in d.items():\n",
    "    print(f\"{key}: \", np.array(value).mean())"
   ]
  },
  {
   "cell_type": "code",
   "execution_count": null,
   "metadata": {},
   "outputs": [],
   "source": [
    "df = pd.read_csv('scannetv2-labels-combined.tsv', sep='\\t')\n",
    "label_name = {}\n",
    "for i in range(1, 41):\n",
    "    for j, row in df.iterrows():\n",
    "        if row['nyu40id'] == i:\n",
    "            label_name[i] = df.iloc[j]['nyu40class']\n",
    "label_name\n",
    "\n",
    "\n",
    "# for j, row in df.iterrows():\n",
    "#     # print(row)\n",
    "#     break\n",
    "# row.keys()\n",
    "\n",
    "# for j in range(df.shape[0]):\n",
    "#     print(df.iloc[j]['id'])\n",
    "#     break"
   ]
  }
 ],
 "metadata": {
  "kernelspec": {
   "display_name": "Python 3.8.0 ('3dsps-vis')",
   "language": "python",
   "name": "python3"
  },
  "language_info": {
   "codemirror_mode": {
    "name": "ipython",
    "version": 3
   },
   "file_extension": ".py",
   "mimetype": "text/x-python",
   "name": "python",
   "nbconvert_exporter": "python",
   "pygments_lexer": "ipython3",
   "version": "3.8.0 (default, Nov  6 2019, 16:00:02) [MSC v.1916 64 bit (AMD64)]"
  },
  "orig_nbformat": 4,
  "vscode": {
   "interpreter": {
    "hash": "2dfb1628555c795db685c1c9a5436e8a6d2e346014ba3df3d29cb4bc78f9a9f5"
   }
  }
 },
 "nbformat": 4,
 "nbformat_minor": 2
}
